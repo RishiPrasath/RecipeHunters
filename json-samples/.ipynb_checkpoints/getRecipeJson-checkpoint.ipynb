{
 "cells": [
  {
   "cell_type": "markdown",
   "id": "d1bf6641-b96f-4f69-a63b-a3935db94c4d",
   "metadata": {},
   "source": [
    "### Using Allrecipes (https://www.allrecipes.com/) "
   ]
  },
  {
   "cell_type": "code",
   "execution_count": 1,
   "id": "670c8240-b8b5-4dfc-9bf6-7db2b56311fc",
   "metadata": {},
   "outputs": [],
   "source": [
    "import requests\n",
    "from bs4 import BeautifulSoup\n",
    "import json\n",
    "import re\n",
    "\n",
    "# when to use local data\n",
    "# with open(\"file_name\",encoding=\"utf-8\") as file:\n",
    "#     soup = BeautifulSoup(file, \"html.parser\")"
   ]
  },
  {
   "cell_type": "markdown",
   "id": "e4f8724d-d8e0-416c-a28b-2cc7618faaec",
   "metadata": {},
   "source": [
    "### function to make a json file from a url"
   ]
  },
  {
   "cell_type": "code",
   "execution_count": 2,
   "id": "d58b727b-eedf-4d24-a886-683d8f3289f9",
   "metadata": {},
   "outputs": [],
   "source": [
    "def getData(soup):\n",
    "\n",
    "    source = soup.find(\"script\", {\"type\": \"application/ld+json\"}).text\n",
    "    data = json.loads(source)[0]\n",
    "    \n",
    "    if \"video\" in data and \"embedUrl\" in data[\"video\"] :\n",
    "        videoURL = data[\"video\"][\"embedUrl\"]\n",
    "    else:\n",
    "        videoURL = \"\"    \n",
    "    \n",
    "    imageURLs = data[\"image\"][\"url\"]\n",
    "    name = data[\"headline\"]\n",
    "    briefdescription = data[\"description\"]\n",
    "    if \"nutrition\" in data:\n",
    "        totalCarbs = int((data[\"nutrition\"].get(\"carbohydrateContent\").split(\" \"))[0] or 0)\n",
    "        fat = int((data[\"nutrition\"].get(\"fatContent\").split(\" \"))[0] or 0)\n",
    "        protein = int((data[\"nutrition\"].get(\"proteinContent\").split(\" \"))[0] or 0)\n",
    "        calories = int((data[\"nutrition\"].get(\"calories\").split(\" \"))[0] or 0)\n",
    "    else:\n",
    "        totalCarbs = 0\n",
    "        fat = 0\n",
    "        protein = 0\n",
    "        calories = 0\n",
    "    \n",
    "    ingredients = data[\"recipeIngredient\"]\n",
    "    durationToCook = data[\"totalTime\"]\n",
    "\n",
    "    instructions = \"\"\n",
    "    for t in data[\"recipeInstructions\"]:\n",
    "        # instructions += t[\"text\"] + \"\\n\"\n",
    "         instructions.append(t[\"text\"])\n",
    "\n",
    "    # comments\n",
    "    posterName = data[\"review\"][0][\"author\"][\"name\"]\n",
    "    comment = data[\"review\"][0][\"reviewBody\"]\n",
    "    rating = int(data[\"review\"][0][\"reviewRating\"][\"ratingValue\"])\n",
    "\n",
    "    # tags\n",
    "\n",
    "    recipe_dict = {\"_id\": {\"$oid\":\"\"},\n",
    "      \"id\":\"\",\n",
    "      \"videoURL\": videoURL,\n",
    "      \"imageURLs\": imageURLs,\n",
    "      \"name\": name,\n",
    "      \"date\": {\"$timestamp\": {\"t\":\"\",\"i\":\"\"}},\n",
    "      \"briefdescription\": briefdescription,\n",
    "      \"totalCarbs\": totalCarbs,\n",
    "      \"fat\": fat,\n",
    "      \"protein\": protein,\n",
    "      \"calories\": calories,\n",
    "      \"shoppingList\": {\"equipment\": [], \"ingredients\": ingredients  }, \"durationToCook\": durationToCook, \"instructions\": instructions, \"comments\": [{\"posterName\": posterName, \"comment\": comment, \"rating\":rating}],\n",
    "      \"tags\": []\n",
    "    }\n",
    "\n",
    "    with open('data/jsons/' + name + '.json', 'w') as f:\n",
    "        json.dump(recipe_dict, f, indent=4)"
   ]
  },
  {
   "cell_type": "markdown",
   "id": "60db0b2d-ae72-416b-9fcb-12a233ad89a5",
   "metadata": {},
   "source": [
    "### function to extract a recipe url list from a web page (saved file of \"https://www.allrecipes.com/recipes/15522/everyday-cooking/budget-cooking/\")"
   ]
  },
  {
   "cell_type": "code",
   "execution_count": 3,
   "id": "29f7c97c-314a-48ef-a28a-b21202e7c887",
   "metadata": {},
   "outputs": [],
   "source": [
    "def getURL(): ## use local saved file this time\n",
    "    with open(\"data/Budget Cooking Recipes.html\",encoding=\"utf-8\") as file:\n",
    "        soup = BeautifulSoup(file, \"html.parser\")\n",
    "\n",
    "    URLs = []\n",
    "    for i in soup.find_all('a', class_='mntl-card-list-items'):\n",
    "        URLs.append(i.get('href'))\n",
    "\n",
    "    URL_list = []\n",
    "    pattern = \"https://www.allrecipes.com/recipe/*/*/\"\n",
    "    for i in URLs:\n",
    "         if re.match(pattern, i):\n",
    "                URL_list.append(i)\n",
    "    \n",
    "    return URL_list"
   ]
  },
  {
   "cell_type": "markdown",
   "id": "7a35ff76-fbf6-45cf-b00b-f003e9fb84cc",
   "metadata": {},
   "source": [
    "### make json files"
   ]
  },
  {
   "cell_type": "code",
   "execution_count": 4,
   "id": "8ae5c76d-ee78-42a6-aa64-8c412501e11b",
   "metadata": {},
   "outputs": [
    {
     "name": "stdout",
     "output_type": "stream",
     "text": [
      "done\n"
     ]
    }
   ],
   "source": [
    "URL_list = getURL()\n",
    "\n",
    "for i, url in enumerate(URL_list):\n",
    "    r= requests.get(url)\n",
    "    soup = BeautifulSoup(r.content, \"html.parser\")\n",
    "    getData(soup)\n",
    "    \n",
    "print(\"done\")"
   ]
  }
 ],
 "metadata": {
  "kernelspec": {
   "display_name": "Python 3 (ipykernel)",
   "language": "python",
   "name": "python3"
  },
  "language_info": {
   "codemirror_mode": {
    "name": "ipython",
    "version": 3
   },
   "file_extension": ".py",
   "mimetype": "text/x-python",
   "name": "python",
   "nbconvert_exporter": "python",
   "pygments_lexer": "ipython3",
   "version": "3.9.15"
  }
 },
 "nbformat": 4,
 "nbformat_minor": 5
}
